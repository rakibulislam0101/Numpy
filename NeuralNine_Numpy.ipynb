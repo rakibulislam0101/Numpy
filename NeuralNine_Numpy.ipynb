{
  "nbformat": 4,
  "nbformat_minor": 0,
  "metadata": {
    "colab": {
      "provenance": [],
      "authorship_tag": "ABX9TyN5oCXR0lFatAcTcibDrjzY",
      "include_colab_link": true
    },
    "kernelspec": {
      "name": "python3",
      "display_name": "Python 3"
    },
    "language_info": {
      "name": "python"
    }
  },
  "cells": [
    {
      "cell_type": "markdown",
      "metadata": {
        "id": "view-in-github",
        "colab_type": "text"
      },
      "source": [
        "<a href=\"https://colab.research.google.com/github/rakibulislam0101/Numpy/blob/main/NeuralNine_Numpy.ipynb\" target=\"_parent\"><img src=\"https://colab.research.google.com/assets/colab-badge.svg\" alt=\"Open In Colab\"/></a>"
      ]
    },
    {
      "cell_type": "code",
      "source": [
        "!pip install pandas\n",
        "!pip install numpy"
      ],
      "metadata": {
        "id": "KvxyKQNrVz3a",
        "colab": {
          "base_uri": "https://localhost:8080/"
        },
        "outputId": "0e0feb76-6265-4137-8bde-1b45a8619b92"
      },
      "execution_count": null,
      "outputs": [
        {
          "output_type": "stream",
          "name": "stdout",
          "text": [
            "Requirement already satisfied: pandas in /usr/local/lib/python3.10/dist-packages (1.5.3)\n",
            "Requirement already satisfied: python-dateutil>=2.8.1 in /usr/local/lib/python3.10/dist-packages (from pandas) (2.8.2)\n",
            "Requirement already satisfied: pytz>=2020.1 in /usr/local/lib/python3.10/dist-packages (from pandas) (2023.4)\n",
            "Requirement already satisfied: numpy>=1.21.0 in /usr/local/lib/python3.10/dist-packages (from pandas) (1.25.2)\n",
            "Requirement already satisfied: six>=1.5 in /usr/local/lib/python3.10/dist-packages (from python-dateutil>=2.8.1->pandas) (1.16.0)\n",
            "Requirement already satisfied: numpy in /usr/local/lib/python3.10/dist-packages (1.25.2)\n",
            "Requirement already satisfied: matplotlib in /usr/local/lib/python3.10/dist-packages (3.7.1)\n",
            "Requirement already satisfied: contourpy>=1.0.1 in /usr/local/lib/python3.10/dist-packages (from matplotlib) (1.2.0)\n",
            "Requirement already satisfied: cycler>=0.10 in /usr/local/lib/python3.10/dist-packages (from matplotlib) (0.12.1)\n",
            "Requirement already satisfied: fonttools>=4.22.0 in /usr/local/lib/python3.10/dist-packages (from matplotlib) (4.49.0)\n",
            "Requirement already satisfied: kiwisolver>=1.0.1 in /usr/local/lib/python3.10/dist-packages (from matplotlib) (1.4.5)\n",
            "Requirement already satisfied: numpy>=1.20 in /usr/local/lib/python3.10/dist-packages (from matplotlib) (1.25.2)\n",
            "Requirement already satisfied: packaging>=20.0 in /usr/local/lib/python3.10/dist-packages (from matplotlib) (23.2)\n",
            "Requirement already satisfied: pillow>=6.2.0 in /usr/local/lib/python3.10/dist-packages (from matplotlib) (9.4.0)\n",
            "Requirement already satisfied: pyparsing>=2.3.1 in /usr/local/lib/python3.10/dist-packages (from matplotlib) (3.1.1)\n",
            "Requirement already satisfied: python-dateutil>=2.7 in /usr/local/lib/python3.10/dist-packages (from matplotlib) (2.8.2)\n",
            "Requirement already satisfied: six>=1.5 in /usr/local/lib/python3.10/dist-packages (from python-dateutil>=2.7->matplotlib) (1.16.0)\n"
          ]
        }
      ]
    },
    {
      "cell_type": "code",
      "source": [
        "import numpy as np\n",
        "\n",
        "a = np.array([\n",
        "    [1,2,3,4],\n",
        "    [5,6,7,8],\n",
        "    [1,1,1,1],\n",
        "    [2,2,2,2]\n",
        "\n",
        "])\n",
        "a.shape\n",
        "a.ndim\n",
        "a.size\n",
        "a.dtype"
      ],
      "metadata": {
        "colab": {
          "base_uri": "https://localhost:8080/"
        },
        "id": "rGrCw-kLFPLY",
        "outputId": "6c13e76f-d92d-4e3e-fce8-96a041d1d627"
      },
      "execution_count": null,
      "outputs": [
        {
          "output_type": "execute_result",
          "data": {
            "text/plain": [
              "dtype('int64')"
            ]
          },
          "metadata": {},
          "execution_count": 15
        }
      ]
    },
    {
      "cell_type": "code",
      "source": [
        "x = np.array([\n",
        "    [1,2,3,4],\n",
        "    [5,'Hello',7,8]\n",
        "\n",
        "])\n",
        "x.dtype\n",
        "\n",
        "type(a[1][2])"
      ],
      "metadata": {
        "colab": {
          "base_uri": "https://localhost:8080/"
        },
        "id": "-SlTUi3vIRhZ",
        "outputId": "ace97216-c583-4be1-f0d9-5568545a045e"
      },
      "execution_count": null,
      "outputs": [
        {
          "output_type": "execute_result",
          "data": {
            "text/plain": [
              "numpy.int64"
            ]
          },
          "metadata": {},
          "execution_count": 17
        }
      ]
    },
    {
      "cell_type": "code",
      "source": [
        "y = np.array([\n",
        "    [1,2,3],\n",
        "    [4,5,6],\n",
        "    [7,8,9],\n",
        "])\n",
        "\n",
        "type(y[1][2])\n",
        "y[1][2]"
      ],
      "metadata": {
        "colab": {
          "base_uri": "https://localhost:8080/"
        },
        "id": "mjani9ZHJ0ij",
        "outputId": "6536853a-07e3-4c97-a489-8acf24605fe5"
      },
      "execution_count": null,
      "outputs": [
        {
          "output_type": "execute_result",
          "data": {
            "text/plain": [
              "6"
            ]
          },
          "metadata": {},
          "execution_count": 19
        }
      ]
    },
    {
      "cell_type": "code",
      "source": [
        "d = {\n",
        "    '1' : 'A'\n",
        "}\n",
        "\n",
        "a = np.array([\n",
        "    [1,2,3],\n",
        "    [4,5,6],\n",
        "    [7,d,8],\n",
        "])\n",
        "print(a.dtype)"
      ],
      "metadata": {
        "colab": {
          "base_uri": "https://localhost:8080/"
        },
        "id": "dP-3PRk1NL9h",
        "outputId": "2d658d64-7652-4b77-c908-332c3132ebd1"
      },
      "execution_count": null,
      "outputs": [
        {
          "output_type": "stream",
          "name": "stdout",
          "text": [
            "object\n"
          ]
        }
      ]
    },
    {
      "cell_type": "code",
      "source": [
        "z = np.array([\n",
        "    [1,2,3,4,5],\n",
        "    [6,7,8,9,10],\n",
        "    [11,12,13,14,15]\n",
        "],dtype='U7')\n",
        "\n",
        "z.dtype"
      ],
      "metadata": {
        "colab": {
          "base_uri": "https://localhost:8080/"
        },
        "id": "la0trmqMO85b",
        "outputId": "b54fbdc9-c9ac-4744-e433-126efe2f9821"
      },
      "execution_count": null,
      "outputs": [
        {
          "output_type": "execute_result",
          "data": {
            "text/plain": [
              "dtype('<U7')"
            ]
          },
          "metadata": {},
          "execution_count": 25
        }
      ]
    },
    {
      "cell_type": "code",
      "source": [
        "a = np.full((3,3),7)\n",
        "a"
      ],
      "metadata": {
        "colab": {
          "base_uri": "https://localhost:8080/"
        },
        "id": "7L2uHxQnR8Yt",
        "outputId": "bab95b85-ade9-44b4-9d64-0219cdeaf1dc"
      },
      "execution_count": null,
      "outputs": [
        {
          "output_type": "execute_result",
          "data": {
            "text/plain": [
              "array([[7, 7, 7],\n",
              "       [7, 7, 7],\n",
              "       [7, 7, 7]])"
            ]
          },
          "metadata": {},
          "execution_count": 27
        }
      ]
    },
    {
      "cell_type": "code",
      "source": [
        "zero = np.zeros((3,3),dtype='int')\n",
        "zero"
      ],
      "metadata": {
        "colab": {
          "base_uri": "https://localhost:8080/"
        },
        "id": "sK8eZg_8T5T7",
        "outputId": "0020d1cf-da6b-4916-85da-dd7e2491a6ec"
      },
      "execution_count": null,
      "outputs": [
        {
          "output_type": "execute_result",
          "data": {
            "text/plain": [
              "array([[0, 0, 0],\n",
              "       [0, 0, 0],\n",
              "       [0, 0, 0]])"
            ]
          },
          "metadata": {},
          "execution_count": 32
        }
      ]
    },
    {
      "cell_type": "code",
      "source": [
        "one = np.ones((4,5),dtype='int')\n",
        "one"
      ],
      "metadata": {
        "colab": {
          "base_uri": "https://localhost:8080/"
        },
        "id": "pi_HnmHDUXVP",
        "outputId": "f8e89b79-bbf2-4f99-c706-3fd1f92c9615"
      },
      "execution_count": null,
      "outputs": [
        {
          "output_type": "execute_result",
          "data": {
            "text/plain": [
              "array([[1, 1, 1, 1, 1],\n",
              "       [1, 1, 1, 1, 1],\n",
              "       [1, 1, 1, 1, 1],\n",
              "       [1, 1, 1, 1, 1]])"
            ]
          },
          "metadata": {},
          "execution_count": 34
        }
      ]
    },
    {
      "cell_type": "code",
      "source": [
        "a = np.empty((5,5,5))\n",
        "a"
      ],
      "metadata": {
        "id": "UJEN4Wj-UjGA"
      },
      "execution_count": null,
      "outputs": []
    },
    {
      "cell_type": "code",
      "source": [
        "x_values = np.arange(0,10,2)\n",
        "x_values"
      ],
      "metadata": {
        "colab": {
          "base_uri": "https://localhost:8080/"
        },
        "id": "TF2NlX74VrwV",
        "outputId": "45b455ae-f86f-4d07-e79b-4413c852cb7b"
      },
      "execution_count": null,
      "outputs": [
        {
          "output_type": "execute_result",
          "data": {
            "text/plain": [
              "array([0, 2, 4, 6, 8])"
            ]
          },
          "metadata": {},
          "execution_count": 36
        }
      ]
    },
    {
      "cell_type": "code",
      "source": [
        "y_values = np.arange(0,1000,5)\n",
        "y_values"
      ],
      "metadata": {
        "colab": {
          "base_uri": "https://localhost:8080/"
        },
        "id": "ENHKougjV9mC",
        "outputId": "e4e052f3-be0c-428c-9c81-a351c341b432"
      },
      "execution_count": null,
      "outputs": [
        {
          "output_type": "execute_result",
          "data": {
            "text/plain": [
              "array([  0,   5,  10,  15,  20,  25,  30,  35,  40,  45,  50,  55,  60,\n",
              "        65,  70,  75,  80,  85,  90,  95, 100, 105, 110, 115, 120, 125,\n",
              "       130, 135, 140, 145, 150, 155, 160, 165, 170, 175, 180, 185, 190,\n",
              "       195, 200, 205, 210, 215, 220, 225, 230, 235, 240, 245, 250, 255,\n",
              "       260, 265, 270, 275, 280, 285, 290, 295, 300, 305, 310, 315, 320,\n",
              "       325, 330, 335, 340, 345, 350, 355, 360, 365, 370, 375, 380, 385,\n",
              "       390, 395, 400, 405, 410, 415, 420, 425, 430, 435, 440, 445, 450,\n",
              "       455, 460, 465, 470, 475, 480, 485, 490, 495, 500, 505, 510, 515,\n",
              "       520, 525, 530, 535, 540, 545, 550, 555, 560, 565, 570, 575, 580,\n",
              "       585, 590, 595, 600, 605, 610, 615, 620, 625, 630, 635, 640, 645,\n",
              "       650, 655, 660, 665, 670, 675, 680, 685, 690, 695, 700, 705, 710,\n",
              "       715, 720, 725, 730, 735, 740, 745, 750, 755, 760, 765, 770, 775,\n",
              "       780, 785, 790, 795, 800, 805, 810, 815, 820, 825, 830, 835, 840,\n",
              "       845, 850, 855, 860, 865, 870, 875, 880, 885, 890, 895, 900, 905,\n",
              "       910, 915, 920, 925, 930, 935, 940, 945, 950, 955, 960, 965, 970,\n",
              "       975, 980, 985, 990, 995])"
            ]
          },
          "metadata": {},
          "execution_count": 39
        }
      ]
    },
    {
      "cell_type": "code",
      "source": [
        "z_values = np.linspace(0,10,2)\n",
        "z_values\n",
        "\n",
        "x_values = np.linspace(0,25,5)\n",
        "x_values"
      ],
      "metadata": {
        "colab": {
          "base_uri": "https://localhost:8080/"
        },
        "id": "CrneAW5kWDmb",
        "outputId": "f4839447-6061-48d3-a9a0-5e0b2a962b83"
      },
      "execution_count": null,
      "outputs": [
        {
          "output_type": "execute_result",
          "data": {
            "text/plain": [
              "array([ 0.  ,  6.25, 12.5 , 18.75, 25.  ])"
            ]
          },
          "metadata": {},
          "execution_count": 45
        }
      ]
    },
    {
      "cell_type": "code",
      "source": [
        "import numpy as np\n",
        "\n",
        "print(np.nan)\n",
        "print(np.inf)\n",
        "print(np.isnan(np.nan))\n",
        "print(np.isinf(np.inf))\n",
        "\n",
        "print(np.sqrt(-1))\n",
        "print(np.array([10]) / 0)"
      ],
      "metadata": {
        "colab": {
          "base_uri": "https://localhost:8080/"
        },
        "id": "8WPT1W9JXfqE",
        "outputId": "ddd7440c-2d3c-403f-b916-1fc0ac615421"
      },
      "execution_count": null,
      "outputs": [
        {
          "output_type": "stream",
          "name": "stdout",
          "text": [
            "nan\n",
            "inf\n",
            "True\n",
            "True\n",
            "nan\n",
            "[inf]\n"
          ]
        },
        {
          "output_type": "stream",
          "name": "stderr",
          "text": [
            "<ipython-input-55-deaaf643a5c1>:8: RuntimeWarning: invalid value encountered in sqrt\n",
            "  print(np.sqrt(-1))\n",
            "<ipython-input-55-deaaf643a5c1>:9: RuntimeWarning: divide by zero encountered in divide\n",
            "  print(np.array([10]) / 0)\n"
          ]
        }
      ]
    },
    {
      "cell_type": "code",
      "source": [
        "l1 = [1,2,3,4,5]\n",
        "l2 = [6,7,8,9,0]\n",
        "\n",
        "a1 = np.array(l1)\n",
        "a2 = np.array(l2)\n",
        "\n",
        "l1 * 5 #repeat 5 *\n",
        "a1 * 5 #calculation all values\n",
        "\n",
        "# difference between list and array"
      ],
      "metadata": {
        "colab": {
          "base_uri": "https://localhost:8080/"
        },
        "id": "BKfV7YosZrj2",
        "outputId": "83bd837d-19fc-40ac-ca9a-00036255e267"
      },
      "execution_count": null,
      "outputs": [
        {
          "output_type": "execute_result",
          "data": {
            "text/plain": [
              "array([ 5, 10, 15, 20, 25])"
            ]
          },
          "metadata": {},
          "execution_count": 61
        }
      ]
    },
    {
      "cell_type": "code",
      "source": [
        "# vactor addition array\n",
        "\n",
        "l3 = [1,2,3,4,5]\n",
        "l4 = [6,7,8,9,10]\n",
        "\n",
        "a3 = np.array(l3)\n",
        "a4 = np.array(l4)\n",
        "\n",
        "print(a3+a4)"
      ],
      "metadata": {
        "colab": {
          "base_uri": "https://localhost:8080/"
        },
        "id": "2gNFKWdDbJW4",
        "outputId": "eac70710-1721-4ded-81d1-2f66388a7a56"
      },
      "execution_count": null,
      "outputs": [
        {
          "output_type": "stream",
          "name": "stdout",
          "text": [
            "[ 7  9 11 13 15]\n"
          ]
        }
      ]
    },
    {
      "cell_type": "code",
      "source": [
        "a = np.array([1,2,3])\n",
        "b = np.array([\n",
        "    [1],\n",
        "    [2]\n",
        "])\n",
        "\n",
        "print(a+b)"
      ],
      "metadata": {
        "colab": {
          "base_uri": "https://localhost:8080/"
        },
        "id": "HAjKvBlSbuKt",
        "outputId": "6952ce1a-d58a-44a2-bea0-26c4c2527e29"
      },
      "execution_count": null,
      "outputs": [
        {
          "output_type": "stream",
          "name": "stdout",
          "text": [
            "[[2 3 4]\n",
            " [3 4 5]]\n"
          ]
        }
      ]
    },
    {
      "cell_type": "code",
      "source": [
        "import numpy as np\n",
        "\n",
        "a = np.array([1,2,3])\n",
        "\n",
        "a = np.append(a, [7,8,9])\n",
        "print(a)"
      ],
      "metadata": {
        "colab": {
          "base_uri": "https://localhost:8080/"
        },
        "id": "cWBeMyFN75mn",
        "outputId": "d773eea0-3275-46fc-d9fd-cb7bf719e6ef"
      },
      "execution_count": null,
      "outputs": [
        {
          "output_type": "stream",
          "name": "stdout",
          "text": [
            "[1 2 3 7 8 9]\n"
          ]
        }
      ]
    },
    {
      "cell_type": "code",
      "source": [
        "import numpy as np\n",
        "\n",
        "a = np.array([\n",
        "    [1,2,3,4,5],\n",
        "    [6,7,8,9,10],\n",
        "    [11,12,13,14,15],\n",
        "    [16,17,18,19,20],\n",
        "])\n",
        "\n",
        "a.shape"
      ],
      "metadata": {
        "colab": {
          "base_uri": "https://localhost:8080/"
        },
        "id": "q0HlG5YW-P_J",
        "outputId": "b65083db-74aa-4a2c-8a17-0fda27eed1d8"
      },
      "execution_count": null,
      "outputs": [
        {
          "output_type": "execute_result",
          "data": {
            "text/plain": [
              "(4, 5)"
            ]
          },
          "metadata": {},
          "execution_count": 7
        }
      ]
    },
    {
      "cell_type": "code",
      "source": [
        "b = a = np.array([\n",
        "    [1,2,3,4,5],\n",
        "    [6,7,8,9,10],\n",
        "    [11,12,13,14,15],\n",
        "    [16,17,18,19,20],\n",
        "])\n",
        "\n",
        "b.reshape(5,4)"
      ],
      "metadata": {
        "colab": {
          "base_uri": "https://localhost:8080/"
        },
        "id": "f58fp9sY_O2f",
        "outputId": "fae56a86-67b0-4f09-8d21-f02b6bbc66f5"
      },
      "execution_count": null,
      "outputs": [
        {
          "output_type": "execute_result",
          "data": {
            "text/plain": [
              "array([[ 1,  2,  3,  4],\n",
              "       [ 5,  6,  7,  8],\n",
              "       [ 9, 10, 11, 12],\n",
              "       [13, 14, 15, 16],\n",
              "       [17, 18, 19, 20]])"
            ]
          },
          "metadata": {},
          "execution_count": 10
        }
      ]
    },
    {
      "cell_type": "code",
      "source": [
        "c = np.arange(1,21)\n",
        "c\n",
        "\n",
        "d = np.resize(c,(4,5))\n",
        "d"
      ],
      "metadata": {
        "colab": {
          "base_uri": "https://localhost:8080/"
        },
        "id": "46CJs6rU_juD",
        "outputId": "1850de8e-4586-41be-9598-d59d46ded1f6"
      },
      "execution_count": null,
      "outputs": [
        {
          "output_type": "execute_result",
          "data": {
            "text/plain": [
              "array([[ 1,  2,  3,  4,  5],\n",
              "       [ 6,  7,  8,  9, 10],\n",
              "       [11, 12, 13, 14, 15],\n",
              "       [16, 17, 18, 19, 20]])"
            ]
          },
          "metadata": {},
          "execution_count": 23
        }
      ]
    },
    {
      "cell_type": "code",
      "source": [
        "a = np.random.randint(1,10,(4,4))\n",
        "a\n",
        "\n",
        "print(a.flatten())\n",
        "print(a.ravel())"
      ],
      "metadata": {
        "colab": {
          "base_uri": "https://localhost:8080/"
        },
        "id": "_PNRrKBWCr6U",
        "outputId": "63e7ebf8-2341-47d3-859d-9eda851daaa7"
      },
      "execution_count": null,
      "outputs": [
        {
          "output_type": "stream",
          "name": "stdout",
          "text": [
            "[6 1 9 5 7 8 1 5 4 1 3 7 5 7 1 8]\n",
            "[6 1 9 5 7 8 1 5 4 1 3 7 5 7 1 8]\n"
          ]
        }
      ]
    },
    {
      "cell_type": "code",
      "source": [
        "a = np.array([\n",
        "    [1,2,3,4,5],\n",
        "    [6,7,8,9,10],\n",
        "    [11,12,13,14,15],\n",
        "    [16,17,18,19,20],\n",
        "])\n",
        "\n",
        "a.transpose()"
      ],
      "metadata": {
        "colab": {
          "base_uri": "https://localhost:8080/"
        },
        "id": "ZERcplDJF1xG",
        "outputId": "e84c7903-041a-4274-85c1-bdf11a8e34c0"
      },
      "execution_count": null,
      "outputs": [
        {
          "output_type": "execute_result",
          "data": {
            "text/plain": [
              "array([[ 1,  6, 11, 16],\n",
              "       [ 2,  7, 12, 17],\n",
              "       [ 3,  8, 13, 18],\n",
              "       [ 4,  9, 14, 19],\n",
              "       [ 5, 10, 15, 20]])"
            ]
          },
          "metadata": {},
          "execution_count": 28
        }
      ]
    },
    {
      "cell_type": "code",
      "source": [
        "import numpy as np\n",
        "\n",
        "a1 = np.array([\n",
        "    [1,2,3,4,5]\n",
        "])\n",
        "\n",
        "a2 = np.array([\n",
        "    [6,7,8,9,10]\n",
        "])\n",
        "\n",
        "a = np.concatenate((a1,a2))\n",
        "a"
      ],
      "metadata": {
        "colab": {
          "base_uri": "https://localhost:8080/"
        },
        "id": "Fy97MlneHBYk",
        "outputId": "8a7cc86d-7128-4b45-c5bd-5ba5bae56476"
      },
      "execution_count": null,
      "outputs": [
        {
          "output_type": "execute_result",
          "data": {
            "text/plain": [
              "array([[ 1,  2,  3,  4,  5],\n",
              "       [ 6,  7,  8,  9, 10]])"
            ]
          },
          "metadata": {},
          "execution_count": 30
        }
      ]
    },
    {
      "cell_type": "code",
      "source": [
        "import numpy as np\n",
        "\n",
        "x = np.random.randint(1,10,(4,4))\n",
        "x"
      ],
      "metadata": {
        "colab": {
          "base_uri": "https://localhost:8080/"
        },
        "id": "PNsfn2tmJME9",
        "outputId": "420e71ad-048e-4190-9f9e-9be91271b22b"
      },
      "execution_count": null,
      "outputs": [
        {
          "output_type": "execute_result",
          "data": {
            "text/plain": [
              "array([[5, 4, 2, 1],\n",
              "       [1, 8, 9, 4],\n",
              "       [6, 7, 6, 6],\n",
              "       [8, 7, 1, 1]])"
            ]
          },
          "metadata": {},
          "execution_count": 34
        }
      ]
    },
    {
      "cell_type": "code",
      "source": [
        "print(x.max())\n",
        "print(x.min())\n",
        "print(x.mean())\n",
        "print(x.std())\n",
        "print(x.sum())\n",
        "print(np.median(a))"
      ],
      "metadata": {
        "colab": {
          "base_uri": "https://localhost:8080/"
        },
        "id": "03l86T92JXHS",
        "outputId": "1fd06b01-a51e-4509-c8b1-103c600dc6e7"
      },
      "execution_count": null,
      "outputs": [
        {
          "output_type": "stream",
          "name": "stdout",
          "text": [
            "9\n",
            "1\n",
            "4.75\n",
            "2.7271780286589284\n",
            "76\n",
            "5.5\n"
          ]
        }
      ]
    },
    {
      "cell_type": "code",
      "source": [
        "import numpy as np\n",
        "\n",
        "x = np.random.randint(0,100,(3,4,4))\n",
        "x"
      ],
      "metadata": {
        "colab": {
          "base_uri": "https://localhost:8080/"
        },
        "id": "QzxBHL9VKwRr",
        "outputId": "46569be4-3698-4139-d5c6-4573028658fb"
      },
      "execution_count": null,
      "outputs": [
        {
          "output_type": "execute_result",
          "data": {
            "text/plain": [
              "array([[[52, 63, 35, 48],\n",
              "        [59, 97, 44, 80],\n",
              "        [74, 40, 41, 32],\n",
              "        [ 4, 31, 14, 17]],\n",
              "\n",
              "       [[47, 32, 44, 71],\n",
              "        [43, 22, 28, 87],\n",
              "        [41, 99, 41, 72],\n",
              "        [63, 63, 34, 89]],\n",
              "\n",
              "       [[42,  3, 61, 38],\n",
              "        [97, 40, 89, 35],\n",
              "        [27,  8,  3, 23],\n",
              "        [48, 76, 47, 54]]])"
            ]
          },
          "metadata": {},
          "execution_count": 43
        }
      ]
    },
    {
      "cell_type": "code",
      "source": [
        "numbers = np.random.binomial(10, p=0.5, size=(5,10))\n",
        "numbers"
      ],
      "metadata": {
        "colab": {
          "base_uri": "https://localhost:8080/"
        },
        "id": "pE1GcPYBNpdQ",
        "outputId": "47c65925-f090-4bdc-c94a-5137d6011dfb"
      },
      "execution_count": null,
      "outputs": [
        {
          "output_type": "execute_result",
          "data": {
            "text/plain": [
              "array([[4, 5, 3, 4, 5, 4, 3, 5, 4, 8],\n",
              "       [7, 7, 5, 5, 4, 6, 7, 6, 2, 5],\n",
              "       [3, 5, 5, 6, 6, 3, 5, 7, 6, 7],\n",
              "       [6, 4, 5, 4, 3, 4, 5, 4, 3, 4],\n",
              "       [7, 4, 6, 3, 5, 3, 5, 7, 6, 7]])"
            ]
          },
          "metadata": {},
          "execution_count": 45
        }
      ]
    },
    {
      "cell_type": "code",
      "source": [
        "n = np.random.choice([10,20,30,40,50],size=(5,10))\n",
        "n"
      ],
      "metadata": {
        "colab": {
          "base_uri": "https://localhost:8080/"
        },
        "id": "SY_QpQekPEG9",
        "outputId": "b5976a90-0321-451a-d7b2-df67b56f5b85"
      },
      "execution_count": null,
      "outputs": [
        {
          "output_type": "execute_result",
          "data": {
            "text/plain": [
              "array([[20, 30, 50, 50, 30, 10, 20, 10, 30, 40],\n",
              "       [30, 50, 20, 30, 20, 50, 30, 50, 40, 10],\n",
              "       [10, 40, 20, 20, 50, 20, 50, 20, 40, 10],\n",
              "       [40, 40, 40, 30, 20, 30, 30, 20, 10, 40],\n",
              "       [50, 20, 30, 10, 20, 40, 30, 50, 20, 20]])"
            ]
          },
          "metadata": {},
          "execution_count": 47
        }
      ]
    }
  ]
}