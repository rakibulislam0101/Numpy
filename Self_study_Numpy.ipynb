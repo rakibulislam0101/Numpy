{
  "nbformat": 4,
  "nbformat_minor": 0,
  "metadata": {
    "colab": {
      "provenance": [],
      "authorship_tag": "ABX9TyNEnQEN8fbIcBP1uwGzR1P9",
      "include_colab_link": true
    },
    "kernelspec": {
      "name": "python3",
      "display_name": "Python 3"
    },
    "language_info": {
      "name": "python"
    }
  },
  "cells": [
    {
      "cell_type": "markdown",
      "metadata": {
        "id": "view-in-github",
        "colab_type": "text"
      },
      "source": [
        "<a href=\"https://colab.research.google.com/github/rakibulislam0101/Numpy/blob/main/Self_study_Numpy.ipynb\" target=\"_parent\"><img src=\"https://colab.research.google.com/assets/colab-badge.svg\" alt=\"Open In Colab\"/></a>"
      ]
    },
    {
      "cell_type": "code",
      "source": [
        "import numpy as np\n",
        "\n",
        "x = np.array([\n",
        "    [1,2,3,4,5]\n",
        "])\n",
        "x"
      ],
      "metadata": {
        "colab": {
          "base_uri": "https://localhost:8080/"
        },
        "id": "-GnxHBWe7oRy",
        "outputId": "deb89e4d-574e-4bd3-a6f0-3d785a750195"
      },
      "execution_count": null,
      "outputs": [
        {
          "output_type": "execute_result",
          "data": {
            "text/plain": [
              "array([[1, 2, 3, 4, 5]])"
            ]
          },
          "metadata": {},
          "execution_count": 5
        }
      ]
    },
    {
      "cell_type": "code",
      "source": [
        "a = np.array([\n",
        "    [1,2,3,4,5],\n",
        "    [1,5,9,3,4]\n",
        "])\n",
        "a.shape"
      ],
      "metadata": {
        "colab": {
          "base_uri": "https://localhost:8080/"
        },
        "id": "OZQGuZ_d8Rw_",
        "outputId": "d32ea114-fa40-472c-c099-bcc5827ad804"
      },
      "execution_count": null,
      "outputs": [
        {
          "output_type": "execute_result",
          "data": {
            "text/plain": [
              "(2, 5)"
            ]
          },
          "metadata": {},
          "execution_count": 6
        }
      ]
    },
    {
      "cell_type": "code",
      "source": [
        "b = np.array([[\n",
        "    [1,2,3,6],\n",
        "    [1,4,8,9]\n",
        "]])\n",
        "b.ndim\n",
        "\n",
        "y = np.array([[\n",
        "    [1,5,9,7,5,3],\n",
        "    [3,5,7,1,6,8],\n",
        "]])\n",
        "y.ndim\n",
        "y.shape"
      ],
      "metadata": {
        "colab": {
          "base_uri": "https://localhost:8080/"
        },
        "id": "OV6H8C108gek",
        "outputId": "4385cd2a-43f5-4452-f0f5-b08ce7c06011"
      },
      "execution_count": null,
      "outputs": [
        {
          "output_type": "execute_result",
          "data": {
            "text/plain": [
              "(1, 2, 6)"
            ]
          },
          "metadata": {},
          "execution_count": 11
        }
      ]
    },
    {
      "cell_type": "code",
      "source": [
        "# c = np.array([\n",
        "#     [1,2,3,4,5]\n",
        "# ])\n",
        "# c.dtype\n",
        "\n",
        "d = np.random.randint(1,10,(11,11))\n",
        "\n",
        "d.dtype\n",
        "d"
      ],
      "metadata": {
        "colab": {
          "base_uri": "https://localhost:8080/"
        },
        "id": "bROdnozH87jU",
        "outputId": "0dbcfb50-5a15-4d94-fb29-51b6256ad04c"
      },
      "execution_count": null,
      "outputs": [
        {
          "output_type": "execute_result",
          "data": {
            "text/plain": [
              "array([[6, 6, 7, 5, 8, 5, 1, 8, 9, 4, 7],\n",
              "       [1, 2, 3, 4, 8, 9, 4, 7, 7, 7, 7],\n",
              "       [4, 5, 2, 2, 9, 2, 3, 6, 1, 2, 4],\n",
              "       [4, 1, 6, 9, 9, 9, 7, 2, 1, 2, 1],\n",
              "       [2, 9, 2, 2, 9, 3, 6, 4, 1, 7, 5],\n",
              "       [5, 4, 1, 5, 9, 1, 9, 6, 3, 6, 5],\n",
              "       [9, 8, 9, 7, 1, 4, 7, 7, 5, 7, 7],\n",
              "       [6, 4, 7, 1, 4, 1, 7, 1, 1, 4, 2],\n",
              "       [4, 2, 3, 4, 2, 9, 1, 8, 7, 1, 4],\n",
              "       [4, 9, 1, 7, 5, 6, 9, 6, 8, 3, 6],\n",
              "       [9, 5, 6, 2, 7, 9, 6, 1, 9, 2, 7]])"
            ]
          },
          "metadata": {},
          "execution_count": 20
        }
      ]
    },
    {
      "cell_type": "code",
      "source": [
        "a = np.random.randint(1,30,(7,7))\n",
        "a.size\n",
        "a"
      ],
      "metadata": {
        "colab": {
          "base_uri": "https://localhost:8080/"
        },
        "id": "w3ero8jT-BwQ",
        "outputId": "d58221d2-1736-49a4-a650-04591bd7e093"
      },
      "execution_count": null,
      "outputs": [
        {
          "output_type": "execute_result",
          "data": {
            "text/plain": [
              "array([[24, 25, 21,  2, 21, 28, 29],\n",
              "       [ 3, 15,  6,  7,  4, 11, 29],\n",
              "       [13, 16,  8,  9, 17, 23, 12],\n",
              "       [ 7, 23, 24, 23, 27, 12, 20],\n",
              "       [ 2, 24,  2, 16, 17,  9, 18],\n",
              "       [ 6, 11, 22, 22, 29, 22,  8],\n",
              "       [28, 26,  4, 11, 24, 26, 20]])"
            ]
          },
          "metadata": {},
          "execution_count": 28
        }
      ]
    },
    {
      "cell_type": "code",
      "source": [
        "x = np.zeros((3,3))\n",
        "x\n",
        "\n",
        "y = np.zeros((4,4),dtype='int')\n",
        "y\n",
        "\n",
        "z = np.zeros((3,3,3),dtype='int')\n",
        "z.size\n",
        "z"
      ],
      "metadata": {
        "colab": {
          "base_uri": "https://localhost:8080/"
        },
        "id": "iwoi5byk-h49",
        "outputId": "d02e7c4f-874b-4df9-8b01-4a3a0b990781"
      },
      "execution_count": null,
      "outputs": [
        {
          "output_type": "execute_result",
          "data": {
            "text/plain": [
              "array([[[0, 0, 0],\n",
              "        [0, 0, 0],\n",
              "        [0, 0, 0]],\n",
              "\n",
              "       [[0, 0, 0],\n",
              "        [0, 0, 0],\n",
              "        [0, 0, 0]],\n",
              "\n",
              "       [[0, 0, 0],\n",
              "        [0, 0, 0],\n",
              "        [0, 0, 0]]])"
            ]
          },
          "metadata": {},
          "execution_count": 41
        }
      ]
    },
    {
      "cell_type": "code",
      "source": [
        "x = np.ones((3,2,3),dtype='int')\n",
        "x"
      ],
      "metadata": {
        "colab": {
          "base_uri": "https://localhost:8080/"
        },
        "id": "8LOVfLBU_rrK",
        "outputId": "3b19d7e5-e7e6-4294-f6b7-450dc46abcdc"
      },
      "execution_count": null,
      "outputs": [
        {
          "output_type": "execute_result",
          "data": {
            "text/plain": [
              "array([[[1, 1, 1],\n",
              "        [1, 1, 1]],\n",
              "\n",
              "       [[1, 1, 1],\n",
              "        [1, 1, 1]],\n",
              "\n",
              "       [[1, 1, 1],\n",
              "        [1, 1, 1]]])"
            ]
          },
          "metadata": {},
          "execution_count": 44
        }
      ]
    },
    {
      "cell_type": "code",
      "source": [
        "x = np.array([[\n",
        "    [1,2,3,4,5],\n",
        "    [1,5,9,3,4],\n",
        "    [8,5,2,1,4],\n",
        "]])\n",
        "\n",
        "a = np.array([\n",
        "    [2,5,8],\n",
        "    [3,5,4],\n",
        "    [1,4,7]\n",
        "])\n",
        "\n",
        "b = np.array([[\n",
        "    [12,36,10,15,18]\n",
        "]])\n",
        "\n",
        "y = np.random.randint(1,20,(3,3))\n",
        "\n",
        "z = np.random.randint(1,15,(4,4))\n",
        "\n",
        "x.nbytes, a.nbytes, b.nbytes, y.nbytes, z.nbytes"
      ],
      "metadata": {
        "colab": {
          "base_uri": "https://localhost:8080/"
        },
        "id": "7e-_9EWiAclo",
        "outputId": "38929a45-0e68-4629-c50e-4a9c68648218"
      },
      "execution_count": null,
      "outputs": [
        {
          "output_type": "execute_result",
          "data": {
            "text/plain": [
              "(120, 72, 40, 72, 128)"
            ]
          },
          "metadata": {},
          "execution_count": 46
        }
      ]
    },
    {
      "cell_type": "code",
      "source": [
        "x = np.random.randint(1,10,(3,3))\n",
        "\n",
        "y = np.random.randint(1,5,(2,2))\n",
        "x.data, y.data"
      ],
      "metadata": {
        "colab": {
          "base_uri": "https://localhost:8080/"
        },
        "id": "vmuxXt7sBiOJ",
        "outputId": "61e5541e-3985-43e1-94e3-1415a38d5316"
      },
      "execution_count": null,
      "outputs": [
        {
          "output_type": "execute_result",
          "data": {
            "text/plain": [
              "(<memory at 0x7d3ef617fe00>, <memory at 0x7d3ef617fed0>)"
            ]
          },
          "metadata": {},
          "execution_count": 50
        }
      ]
    },
    {
      "cell_type": "code",
      "source": [
        "x = np.full((3,3),5)\n",
        "x\n",
        "\n",
        "y = np.full((4,4),1)\n",
        "y\n",
        "\n",
        "z = np.full((5,5),9)\n",
        "z"
      ],
      "metadata": {
        "colab": {
          "base_uri": "https://localhost:8080/"
        },
        "id": "4JH5wtzMB4I2",
        "outputId": "265401e4-e0ca-495f-9ad6-e7deed773446"
      },
      "execution_count": null,
      "outputs": [
        {
          "output_type": "execute_result",
          "data": {
            "text/plain": [
              "array([[9, 9, 9, 9, 9],\n",
              "       [9, 9, 9, 9, 9],\n",
              "       [9, 9, 9, 9, 9],\n",
              "       [9, 9, 9, 9, 9],\n",
              "       [9, 9, 9, 9, 9]])"
            ]
          },
          "metadata": {},
          "execution_count": 53
        }
      ]
    },
    {
      "cell_type": "code",
      "source": [
        "a = np.identity(3,dtype='int')\n",
        "a\n",
        "\n",
        "b = np.identity(4, dtype='int')\n",
        "b\n",
        "\n",
        "c = np.identity(3,dtype='int')\n",
        "c\n",
        "\n",
        "d = np.identity(5, dtype='int')\n",
        "d"
      ],
      "metadata": {
        "colab": {
          "base_uri": "https://localhost:8080/"
        },
        "id": "-kwaNroSCaPJ",
        "outputId": "625d5b4c-b55b-4a12-d5d0-9b2a7620e19e"
      },
      "execution_count": null,
      "outputs": [
        {
          "output_type": "execute_result",
          "data": {
            "text/plain": [
              "array([[1, 0, 0, 0, 0],\n",
              "       [0, 1, 0, 0, 0],\n",
              "       [0, 0, 1, 0, 0],\n",
              "       [0, 0, 0, 1, 0],\n",
              "       [0, 0, 0, 0, 1]])"
            ]
          },
          "metadata": {},
          "execution_count": 62
        }
      ]
    },
    {
      "cell_type": "code",
      "source": [
        "d[0][0]"
      ],
      "metadata": {
        "colab": {
          "base_uri": "https://localhost:8080/"
        },
        "id": "w99QtcrZDmPE",
        "outputId": "c4d3198d-4aa2-4fda-a769-19af118280c9"
      },
      "execution_count": null,
      "outputs": [
        {
          "output_type": "execute_result",
          "data": {
            "text/plain": [
              "1"
            ]
          },
          "metadata": {},
          "execution_count": 63
        }
      ]
    },
    {
      "cell_type": "code",
      "source": [
        "A = np.random.randint(1,10, (3,3))\n",
        "A\n",
        "\n",
        "B = np.random.randint(1,15, size=(3,3,3))\n",
        "B"
      ],
      "metadata": {
        "colab": {
          "base_uri": "https://localhost:8080/"
        },
        "id": "0iaLsqzlEAFh",
        "outputId": "53f59d57-8a6f-42ce-8afb-e40b191d2c26"
      },
      "execution_count": null,
      "outputs": [
        {
          "output_type": "execute_result",
          "data": {
            "text/plain": [
              "array([[[ 7, 11, 12],\n",
              "        [ 1,  2,  8],\n",
              "        [10,  1, 13]],\n",
              "\n",
              "       [[12, 13,  8],\n",
              "        [ 8,  9, 11],\n",
              "        [ 1,  5,  1]],\n",
              "\n",
              "       [[13,  7,  4],\n",
              "        [10,  5,  7],\n",
              "        [ 7, 10,  1]]])"
            ]
          },
          "metadata": {},
          "execution_count": 67
        }
      ]
    },
    {
      "cell_type": "code",
      "source": [
        "X = np.arange(1,10)\n",
        "X\n",
        "\n",
        "Y = np.arange(1,6)\n",
        "Y\n",
        "\n",
        "A = np.arange(1,11)\n",
        "A"
      ],
      "metadata": {
        "colab": {
          "base_uri": "https://localhost:8080/"
        },
        "id": "d3mUo0TEEbZZ",
        "outputId": "bc90bbf7-edd9-4ec1-9063-a73f4d654e2c"
      },
      "execution_count": null,
      "outputs": [
        {
          "output_type": "execute_result",
          "data": {
            "text/plain": [
              "array([ 1,  2,  3,  4,  5,  6,  7,  8,  9, 10])"
            ]
          },
          "metadata": {},
          "execution_count": 79
        }
      ]
    },
    {
      "cell_type": "code",
      "source": [
        "import numpy as np\n",
        "\n",
        "x = np.random.randint(1,10,(3,2))\n"
      ],
      "metadata": {
        "colab": {
          "base_uri": "https://localhost:8080/"
        },
        "id": "07a5_kRcHNHp",
        "outputId": "0d3b6432-3d49-42dd-878c-36677b00ac50"
      },
      "execution_count": null,
      "outputs": [
        {
          "output_type": "execute_result",
          "data": {
            "text/plain": [
              "array([[2, 2],\n",
              "       [6, 1],\n",
              "       [7, 9]])"
            ]
          },
          "metadata": {},
          "execution_count": 103
        }
      ]
    },
    {
      "cell_type": "code",
      "source": [
        "np.reshape(x,(2,3))"
      ],
      "metadata": {
        "colab": {
          "base_uri": "https://localhost:8080/"
        },
        "id": "1_aBglGMHjLY",
        "outputId": "1493a9fb-011b-4e56-bb96-675486ab106f"
      },
      "execution_count": null,
      "outputs": [
        {
          "output_type": "execute_result",
          "data": {
            "text/plain": [
              "array([[2, 2, 6],\n",
              "       [1, 7, 9]])"
            ]
          },
          "metadata": {},
          "execution_count": 107
        }
      ]
    },
    {
      "cell_type": "code",
      "source": [
        "a = np.array([\n",
        "    [1,2,3,4,5],\n",
        "    [6,7,8,9,10],\n",
        "    [11,12,13,14,15]\n",
        "])\n",
        "\n",
        "a_resize = np.resize(a,(2,4))\n",
        "a_resize"
      ],
      "metadata": {
        "colab": {
          "base_uri": "https://localhost:8080/"
        },
        "id": "sieI3D3BIUcg",
        "outputId": "11e1b84b-25d1-4f22-da7a-4c5feadfbe7b"
      },
      "execution_count": null,
      "outputs": [
        {
          "output_type": "execute_result",
          "data": {
            "text/plain": [
              "array([[1, 2, 3, 4],\n",
              "       [5, 6, 7, 8]])"
            ]
          },
          "metadata": {},
          "execution_count": 115
        }
      ]
    },
    {
      "cell_type": "code",
      "source": [
        "x = np.random.randint(1,15,(3,4))\n",
        "x"
      ],
      "metadata": {
        "colab": {
          "base_uri": "https://localhost:8080/"
        },
        "id": "tglUM5hUKLy6",
        "outputId": "71c3a62c-5ce2-4efa-f26c-988cfd241d4f"
      },
      "execution_count": null,
      "outputs": [
        {
          "output_type": "execute_result",
          "data": {
            "text/plain": [
              "array([[10,  6, 13,  5],\n",
              "       [ 8, 10,  1,  4],\n",
              "       [ 4,  6,  4,  7]])"
            ]
          },
          "metadata": {},
          "execution_count": 116
        }
      ]
    },
    {
      "cell_type": "code",
      "source": [
        "x_ravel = np.ravel(x)\n",
        "x_ravel"
      ],
      "metadata": {
        "colab": {
          "base_uri": "https://localhost:8080/"
        },
        "id": "V5c2T7i7Kj_Y",
        "outputId": "f54e83b0-aab0-4422-f21d-33449f88f402"
      },
      "execution_count": null,
      "outputs": [
        {
          "output_type": "execute_result",
          "data": {
            "text/plain": [
              "array([10,  6, 13,  5,  8, 10,  1,  4,  4,  6,  4,  7])"
            ]
          },
          "metadata": {},
          "execution_count": 117
        }
      ]
    },
    {
      "cell_type": "code",
      "source": [
        "y = np.random.randint(1,20,(9,9))\n",
        "y"
      ],
      "metadata": {
        "colab": {
          "base_uri": "https://localhost:8080/"
        },
        "id": "3BRT6DcMKrdg",
        "outputId": "7638c6ad-53c6-434f-b917-9501a742fafe"
      },
      "execution_count": null,
      "outputs": [
        {
          "output_type": "execute_result",
          "data": {
            "text/plain": [
              "array([[10, 11,  3, 10,  2,  6, 12,  4,  6],\n",
              "       [ 8,  5, 13, 12, 11, 14, 19,  7,  5],\n",
              "       [ 1, 18,  2, 19, 16, 19, 15, 11, 13],\n",
              "       [12, 13,  6,  9,  9,  9,  7, 18, 16],\n",
              "       [14, 16, 17,  6,  6, 16,  1, 11,  6],\n",
              "       [ 5,  5,  4, 16, 11,  9, 10,  1,  5],\n",
              "       [17, 16,  2, 17,  1,  1, 10, 17,  2],\n",
              "       [19,  8, 11, 17,  2, 18, 11,  6, 14],\n",
              "       [14,  4, 19, 18, 10,  7, 10,  2, 13]])"
            ]
          },
          "metadata": {},
          "execution_count": 118
        }
      ]
    },
    {
      "cell_type": "code",
      "source": [
        "y_ravel = np.ravel(y)\n",
        "y_ravel"
      ],
      "metadata": {
        "colab": {
          "base_uri": "https://localhost:8080/"
        },
        "id": "Xf7y4EtCKzep",
        "outputId": "dc1e477b-139d-4f77-c399-4132d03b236f"
      },
      "execution_count": null,
      "outputs": [
        {
          "output_type": "execute_result",
          "data": {
            "text/plain": [
              "array([10, 11,  3, 10,  2,  6, 12,  4,  6,  8,  5, 13, 12, 11, 14, 19,  7,\n",
              "        5,  1, 18,  2, 19, 16, 19, 15, 11, 13, 12, 13,  6,  9,  9,  9,  7,\n",
              "       18, 16, 14, 16, 17,  6,  6, 16,  1, 11,  6,  5,  5,  4, 16, 11,  9,\n",
              "       10,  1,  5, 17, 16,  2, 17,  1,  1, 10, 17,  2, 19,  8, 11, 17,  2,\n",
              "       18, 11,  6, 14, 14,  4, 19, 18, 10,  7, 10,  2, 13])"
            ]
          },
          "metadata": {},
          "execution_count": 120
        }
      ]
    },
    {
      "cell_type": "code",
      "source": [
        "a = np.random.randint(1,10,(3,4)).reshape(4,3)\n",
        "a\n",
        "\n",
        "b = np.array([[\n",
        "    [1,2,3,4,5],\n",
        "    [1,2,3,4,5]\n",
        "\n",
        "]]).reshape(5,2)\n",
        "b"
      ],
      "metadata": {
        "colab": {
          "base_uri": "https://localhost:8080/"
        },
        "id": "K7YdGq_ULg-x",
        "outputId": "331cd19c-a892-46d8-9886-417a951f6f11"
      },
      "execution_count": null,
      "outputs": [
        {
          "output_type": "execute_result",
          "data": {
            "text/plain": [
              "array([[1, 2],\n",
              "       [3, 4],\n",
              "       [5, 1],\n",
              "       [2, 3],\n",
              "       [4, 5]])"
            ]
          },
          "metadata": {},
          "execution_count": 122
        }
      ]
    },
    {
      "cell_type": "code",
      "source": [
        "a = np.arange(1,10).reshape(3,3)\n",
        "a\n",
        "\n",
        "b = np.arange(1,10).reshape(3,3)\n",
        "b"
      ],
      "metadata": {
        "colab": {
          "base_uri": "https://localhost:8080/"
        },
        "id": "VjD2F6-iMfMY",
        "outputId": "b0342c91-7e5f-4ad5-f090-dc09643e12a7"
      },
      "execution_count": null,
      "outputs": [
        {
          "output_type": "execute_result",
          "data": {
            "text/plain": [
              "array([[1, 2, 3],\n",
              "       [4, 5, 6],\n",
              "       [7, 8, 9]])"
            ]
          },
          "metadata": {},
          "execution_count": 131
        }
      ]
    },
    {
      "cell_type": "code",
      "source": [
        "\n",
        "x = np.array([[\n",
        "    [1,2,3],\n",
        "    [6,7,8]\n",
        "]])\n",
        "\n",
        "y = np.array([[\n",
        "    ['X','Y','Z'],\n",
        "    ['A','B','C']\n",
        "]])\n",
        "\n",
        "np.hstack((x,y))"
      ],
      "metadata": {
        "colab": {
          "base_uri": "https://localhost:8080/"
        },
        "id": "blwI-sAdNPpi",
        "outputId": "87703919-1a49-4d22-ea24-5725f8dfcc4e"
      },
      "execution_count": null,
      "outputs": [
        {
          "output_type": "execute_result",
          "data": {
            "text/plain": [
              "array([[['1', '2', '3'],\n",
              "        ['6', '7', '8'],\n",
              "        ['X', 'Y', 'Z'],\n",
              "        ['A', 'B', 'C']]], dtype='<U21')"
            ]
          },
          "metadata": {},
          "execution_count": 136
        }
      ]
    },
    {
      "cell_type": "code",
      "source": [
        "x = np.array([[\n",
        "    [1,2,3],\n",
        "    [6,7,8]\n",
        "]])\n",
        "\n",
        "y = np.array([[\n",
        "    ['X','Y','Z'],\n",
        "    ['A','B','C']\n",
        "]])\n",
        "\n",
        "np.column_stack((x,y))"
      ],
      "metadata": {
        "colab": {
          "base_uri": "https://localhost:8080/"
        },
        "id": "QJdIEVW8ORy_",
        "outputId": "cb03d63f-4b4c-46b6-ddf0-8020bc2719be"
      },
      "execution_count": null,
      "outputs": [
        {
          "output_type": "execute_result",
          "data": {
            "text/plain": [
              "array([[['1', '2', '3'],\n",
              "        ['6', '7', '8'],\n",
              "        ['X', 'Y', 'Z'],\n",
              "        ['A', 'B', 'C']]], dtype='<U21')"
            ]
          },
          "metadata": {},
          "execution_count": 137
        }
      ]
    },
    {
      "cell_type": "code",
      "source": [
        "x = np.array([[\n",
        "    [1,2,3],\n",
        "    [6,7,8]\n",
        "]])\n",
        "\n",
        "y = np.array([[\n",
        "    ['X','Y','Z'],\n",
        "    ['A','B','C']\n",
        "]])\n",
        "\n",
        "np.vstack((x,y))"
      ],
      "metadata": {
        "colab": {
          "base_uri": "https://localhost:8080/"
        },
        "id": "C2Ff6kItOnpM",
        "outputId": "a931d76e-9ae6-42b4-a69b-5711d337e564"
      },
      "execution_count": null,
      "outputs": [
        {
          "output_type": "execute_result",
          "data": {
            "text/plain": [
              "array([[['1', '2', '3'],\n",
              "        ['6', '7', '8']],\n",
              "\n",
              "       [['X', 'Y', 'Z'],\n",
              "        ['A', 'B', 'C']]], dtype='<U21')"
            ]
          },
          "metadata": {},
          "execution_count": 138
        }
      ]
    },
    {
      "cell_type": "code",
      "source": [
        "x = np.array([[\n",
        "    [1,2,3],\n",
        "    [6,7,8]\n",
        "]])\n",
        "\n",
        "y = np.array([[\n",
        "    ['X','Y','Z'],\n",
        "    ['A','B','C']\n",
        "]])\n",
        "\n",
        "np.row_stack((x,y))"
      ],
      "metadata": {
        "colab": {
          "base_uri": "https://localhost:8080/"
        },
        "id": "IvyhTOzgPDIo",
        "outputId": "30059746-8f67-4b92-b33c-45b07b514f0f"
      },
      "execution_count": null,
      "outputs": [
        {
          "output_type": "execute_result",
          "data": {
            "text/plain": [
              "array([[['1', '2', '3'],\n",
              "        ['6', '7', '8']],\n",
              "\n",
              "       [['X', 'Y', 'Z'],\n",
              "        ['A', 'B', 'C']]], dtype='<U21')"
            ]
          },
          "metadata": {},
          "execution_count": 142
        }
      ]
    },
    {
      "cell_type": "code",
      "source": [
        "import numpy as np\n",
        "x = np.array([\n",
        "    [1,1,1,1],\n",
        "    [2,2,2,2]\n",
        "])\n",
        "\n",
        "y = np.array([\n",
        "    [1,1,1,1],\n",
        "    [2,2,2,2]\n",
        "])\n",
        "\n",
        "np.dstack((x,y))"
      ],
      "metadata": {
        "colab": {
          "base_uri": "https://localhost:8080/"
        },
        "id": "11izRxgQQUMq",
        "outputId": "c72547d4-f787-4166-ff8a-5feea4818662"
      },
      "execution_count": null,
      "outputs": [
        {
          "output_type": "execute_result",
          "data": {
            "text/plain": [
              "array([[[1, 1],\n",
              "        [1, 1],\n",
              "        [1, 1],\n",
              "        [1, 1]],\n",
              "\n",
              "       [[2, 2],\n",
              "        [2, 2],\n",
              "        [2, 2],\n",
              "        [2, 2]]])"
            ]
          },
          "metadata": {},
          "execution_count": 4
        }
      ]
    },
    {
      "cell_type": "code",
      "source": [
        "# np.array()\n",
        "# shape\n",
        "# ndim\n",
        "# dtype\n",
        "# size\n",
        "# zeros\n",
        "# ones\n",
        "# nbytes\n",
        "# data\n",
        "# np.full\n",
        "# np.identity\n",
        "# np.arange\n",
        "# np.reshape\n",
        "# np.resize\n",
        "# np.ravel\n",
        "# np.hstack\n",
        "# np.column_stack\n",
        "# np.vstack\n",
        "# np.row_stack\n",
        "# np.dstack"
      ],
      "metadata": {
        "id": "MuPwzZyj7xaZ"
      },
      "execution_count": null,
      "outputs": []
    },
    {
      "cell_type": "code",
      "source": [
        "x = np.array([\n",
        "    [1,2,3,4,5],\n",
        "    [6,7,8,9,10],\n",
        "    [11,12,13,14,15],\n",
        "])\n",
        "\n",
        "np.resize(x,(2,2))"
      ],
      "metadata": {
        "colab": {
          "base_uri": "https://localhost:8080/"
        },
        "id": "3EZkyqr6gOlN",
        "outputId": "5800c7f2-8c7e-4b69-e0a2-d55970753f92"
      },
      "execution_count": null,
      "outputs": [
        {
          "output_type": "execute_result",
          "data": {
            "text/plain": [
              "array([[1, 2],\n",
              "       [3, 4]])"
            ]
          },
          "metadata": {},
          "execution_count": 28
        }
      ]
    },
    {
      "cell_type": "code",
      "source": [
        "a = np.array([\n",
        "    [1,2,3,4,5],\n",
        "    [2,2,3,4,5]\n",
        "])\n",
        "\n",
        "b = np.array([\n",
        "    [6,7,8,9,10],\n",
        "    [6,7,8,9,10]\n",
        "])\n",
        "\n",
        "c = np.dstack((a,b))\n",
        "c"
      ],
      "metadata": {
        "colab": {
          "base_uri": "https://localhost:8080/"
        },
        "id": "8URrNLZei_1P",
        "outputId": "c054e1a9-4cb7-41e4-f4e7-eda82ddcf78c"
      },
      "execution_count": null,
      "outputs": [
        {
          "output_type": "execute_result",
          "data": {
            "text/plain": [
              "array([[[ 1,  6],\n",
              "        [ 2,  7],\n",
              "        [ 3,  8],\n",
              "        [ 4,  9],\n",
              "        [ 5, 10]],\n",
              "\n",
              "       [[ 2,  6],\n",
              "        [ 2,  7],\n",
              "        [ 3,  8],\n",
              "        [ 4,  9],\n",
              "        [ 5, 10]]])"
            ]
          },
          "metadata": {},
          "execution_count": 32
        }
      ]
    },
    {
      "cell_type": "code",
      "source": [
        "import numpy as np\n",
        "\n",
        "list_ = [1,2,3,4,5,6,7,8,9,10]\n",
        "\n",
        "Array = np.array(list_)\n",
        "\n",
        "Array"
      ],
      "metadata": {
        "colab": {
          "base_uri": "https://localhost:8080/"
        },
        "id": "e0YlHIU4jg41",
        "outputId": "3ebdff81-65f8-4ffd-c2bf-81f3fab02a34"
      },
      "execution_count": null,
      "outputs": [
        {
          "output_type": "execute_result",
          "data": {
            "text/plain": [
              "array([ 1,  2,  3,  4,  5,  6,  7,  8,  9, 10])"
            ]
          },
          "metadata": {},
          "execution_count": 14
        }
      ]
    },
    {
      "cell_type": "code",
      "source": [
        "import numpy as np\n",
        "\n",
        "X = np.array([\n",
        "    [1,2,3],\n",
        "    [4,5,6],\n",
        "    [7,8,9],\n",
        "])\n",
        "\n",
        "X.shape\n",
        "\n",
        "Y = np.array([\n",
        "    [1,2,3,4],\n",
        "    [2,4,6,8]\n",
        "])\n",
        "\n",
        "Y.reshape(4,2)"
      ],
      "metadata": {
        "colab": {
          "base_uri": "https://localhost:8080/"
        },
        "id": "HsawyhrBkyFV",
        "outputId": "b7e5ad89-c484-4806-c6f7-b10442499ec7"
      },
      "execution_count": null,
      "outputs": [
        {
          "output_type": "execute_result",
          "data": {
            "text/plain": [
              "array([[1, 2],\n",
              "       [3, 4],\n",
              "       [2, 4],\n",
              "       [6, 8]])"
            ]
          },
          "metadata": {},
          "execution_count": 20
        }
      ]
    },
    {
      "cell_type": "code",
      "source": [
        "a = np.array([\n",
        "    [2,4,6,8,10],\n",
        "    [1,3,5,7,9],\n",
        "    [2,5,7,9,13]\n",
        "])\n",
        "\n",
        "a.shape"
      ],
      "metadata": {
        "colab": {
          "base_uri": "https://localhost:8080/"
        },
        "id": "fhXX0LyqlsKW",
        "outputId": "ab9ea2ea-cb4f-4ae2-989f-2df0803128ed"
      },
      "execution_count": null,
      "outputs": [
        {
          "output_type": "execute_result",
          "data": {
            "text/plain": [
              "(3, 5)"
            ]
          },
          "metadata": {},
          "execution_count": 22
        }
      ]
    },
    {
      "cell_type": "code",
      "source": [
        "b = np.array([\n",
        "    [1,2,3,4,5],\n",
        "    [6,7,8,9,10],\n",
        "    [11,12,13,14,15]\n",
        "])\n",
        "\n",
        "b.ndim"
      ],
      "metadata": {
        "colab": {
          "base_uri": "https://localhost:8080/"
        },
        "id": "PirKznRLmCa_",
        "outputId": "1f6962a4-9bb4-4b0b-ee82-5f124decc95f"
      },
      "execution_count": null,
      "outputs": [
        {
          "output_type": "execute_result",
          "data": {
            "text/plain": [
              "2"
            ]
          },
          "metadata": {},
          "execution_count": 23
        }
      ]
    },
    {
      "cell_type": "code",
      "source": [
        "y = np.array([\n",
        "    [1.0,2,3,4,5]\n",
        "])\n",
        "y.dtype\n",
        "\n",
        "z = np.array([1,2,3,4,5])\n",
        "z.dtype"
      ],
      "metadata": {
        "colab": {
          "base_uri": "https://localhost:8080/"
        },
        "id": "nnBEiwYymO2U",
        "outputId": "e9cc7ea8-8941-4e18-c9cf-4c280c8a0015"
      },
      "execution_count": null,
      "outputs": [
        {
          "output_type": "execute_result",
          "data": {
            "text/plain": [
              "dtype('int64')"
            ]
          },
          "metadata": {},
          "execution_count": 26
        }
      ]
    },
    {
      "cell_type": "code",
      "source": [
        "a = np.array([\n",
        "    [1,5,9],\n",
        "    [3,5,7],\n",
        "    [7,5,3],\n",
        "])\n",
        "\n",
        "a.size\n",
        "\n",
        "b = np.array([\n",
        "    [1,2,3,4,5,6,7,8]\n",
        "])\n",
        "b.size"
      ],
      "metadata": {
        "colab": {
          "base_uri": "https://localhost:8080/"
        },
        "id": "qfmpjH0ImifF",
        "outputId": "ca17d361-b272-425e-ea23-6affdc99b8c5"
      },
      "execution_count": null,
      "outputs": [
        {
          "output_type": "execute_result",
          "data": {
            "text/plain": [
              "8"
            ]
          },
          "metadata": {},
          "execution_count": 28
        }
      ]
    },
    {
      "cell_type": "code",
      "source": [
        "z = np.zeros((4,4,4))\n",
        "z\n",
        "\n",
        "c = np.zeros((3,2,2),dtype='int')\n",
        "c\n",
        "\n",
        "d = np.zeros((2,3,3))\n",
        "d\n",
        "\n",
        "e = np.zeros((1,3,3),dtype='int')\n",
        "e"
      ],
      "metadata": {
        "colab": {
          "base_uri": "https://localhost:8080/"
        },
        "id": "9RxG9bFVnhi2",
        "outputId": "42380d23-7b8f-476b-8ab7-87d907bf6c7d"
      },
      "execution_count": null,
      "outputs": [
        {
          "output_type": "execute_result",
          "data": {
            "text/plain": [
              "array([[[0, 0, 0],\n",
              "        [0, 0, 0],\n",
              "        [0, 0, 0]]])"
            ]
          },
          "metadata": {},
          "execution_count": 36
        }
      ]
    },
    {
      "cell_type": "code",
      "source": [
        "o = np.ones((3,2,4),dtype='int')\n",
        "o\n",
        "\n",
        "x = np.ones((4,5,5))\n",
        "x.ndim\n",
        "x"
      ],
      "metadata": {
        "colab": {
          "base_uri": "https://localhost:8080/"
        },
        "id": "dlfAQgmYnrbG",
        "outputId": "697f671b-70ac-4a18-ccb3-584bcca76e53"
      },
      "execution_count": null,
      "outputs": [
        {
          "output_type": "execute_result",
          "data": {
            "text/plain": [
              "array([[[1., 1., 1., 1., 1.],\n",
              "        [1., 1., 1., 1., 1.],\n",
              "        [1., 1., 1., 1., 1.],\n",
              "        [1., 1., 1., 1., 1.],\n",
              "        [1., 1., 1., 1., 1.]],\n",
              "\n",
              "       [[1., 1., 1., 1., 1.],\n",
              "        [1., 1., 1., 1., 1.],\n",
              "        [1., 1., 1., 1., 1.],\n",
              "        [1., 1., 1., 1., 1.],\n",
              "        [1., 1., 1., 1., 1.]],\n",
              "\n",
              "       [[1., 1., 1., 1., 1.],\n",
              "        [1., 1., 1., 1., 1.],\n",
              "        [1., 1., 1., 1., 1.],\n",
              "        [1., 1., 1., 1., 1.],\n",
              "        [1., 1., 1., 1., 1.]],\n",
              "\n",
              "       [[1., 1., 1., 1., 1.],\n",
              "        [1., 1., 1., 1., 1.],\n",
              "        [1., 1., 1., 1., 1.],\n",
              "        [1., 1., 1., 1., 1.],\n",
              "        [1., 1., 1., 1., 1.]]])"
            ]
          },
          "metadata": {},
          "execution_count": 41
        }
      ]
    },
    {
      "cell_type": "code",
      "source": [
        "a.nbytes, y.nbytes, z.nbytes, o.nbytes, x.nbytes"
      ],
      "metadata": {
        "colab": {
          "base_uri": "https://localhost:8080/"
        },
        "id": "NYxjH3bforCO",
        "outputId": "ee0f2cbe-7f71-4447-f7a4-8b1d8f113d8c"
      },
      "execution_count": null,
      "outputs": [
        {
          "output_type": "execute_result",
          "data": {
            "text/plain": [
              "(72, 40, 512, 192, 800)"
            ]
          },
          "metadata": {},
          "execution_count": 45
        }
      ]
    },
    {
      "cell_type": "code",
      "source": [
        "a.data, y.data, z.data, o.data, x.data"
      ],
      "metadata": {
        "colab": {
          "base_uri": "https://localhost:8080/"
        },
        "id": "CYV_oyimo879",
        "outputId": "2e4a6040-abd6-4c66-a8c9-065e37ac7b5a"
      },
      "execution_count": null,
      "outputs": [
        {
          "output_type": "execute_result",
          "data": {
            "text/plain": [
              "(<memory at 0x7c8622383780>,\n",
              " <memory at 0x7c8622383850>,\n",
              " <memory at 0x7c8621f20400>,\n",
              " <memory at 0x7c8621f20310>,\n",
              " <memory at 0x7c8621f205e0>)"
            ]
          },
          "metadata": {},
          "execution_count": 46
        }
      ]
    },
    {
      "cell_type": "code",
      "source": [
        "f_1 = np.full((4,4),9)\n",
        "f_1\n",
        "\n",
        "f_2 = np.full((3,3),3)\n",
        "f_2\n",
        "\n",
        "f_3 = np.full((4,4),5)\n",
        "f_3\n",
        "\n",
        "f_4 = np.full((2,5),7)\n",
        "f_4"
      ],
      "metadata": {
        "colab": {
          "base_uri": "https://localhost:8080/"
        },
        "id": "TDlXforbpIQ-",
        "outputId": "dbf41123-209d-4571-eebe-e83793ba5ffe"
      },
      "execution_count": null,
      "outputs": [
        {
          "output_type": "execute_result",
          "data": {
            "text/plain": [
              "array([[7, 7, 7, 7, 7],\n",
              "       [7, 7, 7, 7, 7]])"
            ]
          },
          "metadata": {},
          "execution_count": 51
        }
      ]
    },
    {
      "cell_type": "code",
      "source": [
        "i_1 = np.identity(4, dtype='int')\n",
        "i_1\n",
        "\n",
        "i_2 = np.identity(5,dtype='int')\n",
        "i_2\n",
        "\n",
        "i_3 = np.identity(3)\n",
        "i_3\n",
        "\n",
        "i_4 = np.identity(7,dtype='int')\n",
        "i_4"
      ],
      "metadata": {
        "colab": {
          "base_uri": "https://localhost:8080/"
        },
        "id": "ShQi7nqKrAfZ",
        "outputId": "4c656712-3e6b-41c2-abf1-b36cfc40819b"
      },
      "execution_count": null,
      "outputs": [
        {
          "output_type": "execute_result",
          "data": {
            "text/plain": [
              "array([[1, 0, 0, 0, 0, 0, 0],\n",
              "       [0, 1, 0, 0, 0, 0, 0],\n",
              "       [0, 0, 1, 0, 0, 0, 0],\n",
              "       [0, 0, 0, 1, 0, 0, 0],\n",
              "       [0, 0, 0, 0, 1, 0, 0],\n",
              "       [0, 0, 0, 0, 0, 1, 0],\n",
              "       [0, 0, 0, 0, 0, 0, 1]])"
            ]
          },
          "metadata": {},
          "execution_count": 62
        }
      ]
    },
    {
      "cell_type": "code",
      "source": [
        "r =  np.random.randint(1,10,(2,2))\n",
        "r\n",
        "\n",
        "t = np.random.randint(1,20,size=(3,3,3))\n",
        "t"
      ],
      "metadata": {
        "colab": {
          "base_uri": "https://localhost:8080/"
        },
        "id": "alkU-LMur3_-",
        "outputId": "2e0a3475-f9f9-4bbc-948e-689ab646d247"
      },
      "execution_count": null,
      "outputs": [
        {
          "output_type": "execute_result",
          "data": {
            "text/plain": [
              "array([[[ 7,  9, 19],\n",
              "        [14, 12,  2],\n",
              "        [ 6, 14, 11]],\n",
              "\n",
              "       [[12, 17, 12],\n",
              "        [ 6, 13, 13],\n",
              "        [17, 15, 16]],\n",
              "\n",
              "       [[ 2, 19, 14],\n",
              "        [19, 19, 19],\n",
              "        [ 1,  5,  6]]])"
            ]
          },
          "metadata": {},
          "execution_count": 68
        }
      ]
    },
    {
      "cell_type": "code",
      "source": [
        "A = np.random.randint(1,10,size=(3,3,3))\n",
        "A"
      ],
      "metadata": {
        "colab": {
          "base_uri": "https://localhost:8080/"
        },
        "id": "XFnJQQClsatD",
        "outputId": "151b0623-49b6-44ab-9071-665b62ce2913"
      },
      "execution_count": null,
      "outputs": [
        {
          "output_type": "execute_result",
          "data": {
            "text/plain": [
              "array([[[6, 8, 2],\n",
              "        [1, 7, 6],\n",
              "        [1, 4, 1]],\n",
              "\n",
              "       [[7, 3, 6],\n",
              "        [9, 3, 5],\n",
              "        [7, 6, 1]],\n",
              "\n",
              "       [[7, 3, 7],\n",
              "        [6, 5, 4],\n",
              "        [6, 9, 3]]])"
            ]
          },
          "metadata": {},
          "execution_count": 70
        }
      ]
    },
    {
      "cell_type": "code",
      "source": [
        "A[1][1][2]"
      ],
      "metadata": {
        "colab": {
          "base_uri": "https://localhost:8080/"
        },
        "id": "rvC1OdPMswik",
        "outputId": "2716cffc-1feb-42f5-a8b4-668a65a5fd04"
      },
      "execution_count": null,
      "outputs": [
        {
          "output_type": "execute_result",
          "data": {
            "text/plain": [
              "5"
            ]
          },
          "metadata": {},
          "execution_count": 71
        }
      ]
    },
    {
      "cell_type": "code",
      "source": [
        "a = np.arange(1,20)\n",
        "a\n",
        "\n",
        "b = np.arange(1,10)\n",
        "b[:5]\n",
        "\n",
        "c =np.arange(1,16)\n",
        "c[:10]"
      ],
      "metadata": {
        "colab": {
          "base_uri": "https://localhost:8080/"
        },
        "id": "wzKuZPPSs72I",
        "outputId": "f8761df8-7288-4f88-e248-ce347ee57777"
      },
      "execution_count": null,
      "outputs": [
        {
          "output_type": "execute_result",
          "data": {
            "text/plain": [
              "array([ 1,  2,  3,  4,  5,  6,  7,  8,  9, 10])"
            ]
          },
          "metadata": {},
          "execution_count": 80
        }
      ]
    },
    {
      "cell_type": "code",
      "source": [
        "a = np.array([\n",
        "    [1,2,3,4,5],\n",
        "    [6,7,8,9,10]\n",
        "])\n",
        "\n",
        "a.reshape(5,2)"
      ],
      "metadata": {
        "colab": {
          "base_uri": "https://localhost:8080/"
        },
        "id": "hBPOHnbyujAr",
        "outputId": "1e8d023d-f47f-4bb8-b5dd-1c31fdfef18c"
      },
      "execution_count": null,
      "outputs": [
        {
          "output_type": "execute_result",
          "data": {
            "text/plain": [
              "array([[ 1,  2],\n",
              "       [ 3,  4],\n",
              "       [ 5,  6],\n",
              "       [ 7,  8],\n",
              "       [ 9, 10]])"
            ]
          },
          "metadata": {},
          "execution_count": 81
        }
      ]
    },
    {
      "cell_type": "code",
      "source": [
        "x = np.array([\n",
        "    [1,2,3,4],\n",
        "    [5,6,7,8],\n",
        "    [9,10,11,12]\n",
        "])\n",
        "\n",
        "a_resize = np.resize(x,(2,2))\n",
        "a_resize"
      ],
      "metadata": {
        "colab": {
          "base_uri": "https://localhost:8080/"
        },
        "id": "lw7dpQNauxcr",
        "outputId": "f0ce6dd7-a330-4fde-b6f2-d66d7eb2c324"
      },
      "execution_count": null,
      "outputs": [
        {
          "output_type": "execute_result",
          "data": {
            "text/plain": [
              "array([[1, 2],\n",
              "       [3, 4]])"
            ]
          },
          "metadata": {},
          "execution_count": 85
        }
      ]
    },
    {
      "cell_type": "code",
      "source": [
        "y = np.array([\n",
        "    [1,5,9,8,5],\n",
        "    [3,5,7,1,6],\n",
        "    [8,6,2,1,7]\n",
        "])\n",
        "\n",
        "y_resize = np.resize(y,(3,2))\n",
        "y_resize"
      ],
      "metadata": {
        "colab": {
          "base_uri": "https://localhost:8080/"
        },
        "id": "f3RnX5wYvgMc",
        "outputId": "fb8997b0-77aa-4139-c78f-5fe8662d85cc"
      },
      "execution_count": null,
      "outputs": [
        {
          "output_type": "execute_result",
          "data": {
            "text/plain": [
              "array([[1, 5],\n",
              "       [9, 8],\n",
              "       [5, 3]])"
            ]
          },
          "metadata": {},
          "execution_count": 86
        }
      ]
    }
  ]
}